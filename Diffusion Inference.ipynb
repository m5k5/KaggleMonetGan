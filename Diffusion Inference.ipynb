{
 "cells": [
  {
   "cell_type": "code",
   "execution_count": 1,
   "id": "9c1d77e7",
   "metadata": {},
   "outputs": [
    {
     "name": "stderr",
     "output_type": "stream",
     "text": [
      "2023-09-03 20:52:53.631331: I tensorflow/core/platform/cpu_feature_guard.cc:182] This TensorFlow binary is optimized to use available CPU instructions in performance-critical operations.\n",
      "To enable the following instructions: AVX2 FMA, in other operations, rebuild TensorFlow with the appropriate compiler flags.\n",
      "2023-09-03 20:52:54.087786: W tensorflow/compiler/tf2tensorrt/utils/py_utils.cc:38] TF-TRT Warning: Could not find TensorRT\n"
     ]
    },
    {
     "name": "stdout",
     "output_type": "stream",
     "text": [
      "Num GPUs Available:  1\n",
      "/mnt/e/ML/MonetGAN\n"
     ]
    },
    {
     "name": "stderr",
     "output_type": "stream",
     "text": [
      "2023-09-03 20:52:54.902370: I tensorflow/compiler/xla/stream_executor/cuda/cuda_gpu_executor.cc:981] could not open file to read NUMA node: /sys/bus/pci/devices/0000:2b:00.0/numa_node\n",
      "Your kernel may have been built without NUMA support.\n",
      "2023-09-03 20:52:54.920881: I tensorflow/compiler/xla/stream_executor/cuda/cuda_gpu_executor.cc:981] could not open file to read NUMA node: /sys/bus/pci/devices/0000:2b:00.0/numa_node\n",
      "Your kernel may have been built without NUMA support.\n",
      "2023-09-03 20:52:54.921233: I tensorflow/compiler/xla/stream_executor/cuda/cuda_gpu_executor.cc:981] could not open file to read NUMA node: /sys/bus/pci/devices/0000:2b:00.0/numa_node\n",
      "Your kernel may have been built without NUMA support.\n"
     ]
    }
   ],
   "source": [
    "import os\n",
    "import numpy as np\n",
    "import tensorflow as tf\n",
    "import pandas as pd\n",
    "import datetime\n",
    "from tqdm import tqdm\n",
    "import matplotlib.pyplot as plt\n",
    "from PIL import Image\n",
    "import itertools as iter\n",
    "from random import shuffle\n",
    "\n",
    "physical_devices = tf.config.list_physical_devices('GPU')\n",
    "print(\"Num GPUs Available: \", len(physical_devices))\n",
    "\n",
    "\n",
    "DATA_PATH = os.getenv('DATA_PATH')\n",
    "print(DATA_PATH)\n"
   ]
  },
  {
   "cell_type": "code",
   "execution_count": 2,
   "id": "c815ad98",
   "metadata": {},
   "outputs": [],
   "source": [
    "T=1000\n",
    "beta = np.linspace(1e-4, 0.04, T)\n",
    "alpha = 1-beta\n",
    "alphaBar = [np.prod(alpha[0:i+1]) for i,el in enumerate(alpha)]\n",
    "IMAGE_SIZE = [256,256]\n",
    "tValues = np.arange(0,T)\n",
    "# alphaBar = np.cos((tValues/(T+1) + 0.008)/(1 + 0.008) * np.pi/2) \n",
    "# np.random.shuffle(tValues)\n",
    "\n",
    "\n",
    "#Cosine schedule\n",
    "def f(t):\n",
    "    return np.cos((t/T + 0.008)/(1 + 0.008) * np.pi/2)**2\n",
    "\n",
    "alphaBar = f(tValues)\n",
    "alpha = (alphaBar[1:])/(alphaBar[0:-1])\n",
    "alpha = np.insert(alpha, 0, alphaBar[0])\n",
    "beta = 1 - alpha\n",
    "\n",
    "\n",
    "\n",
    "def forwardStep(x0Image,t):\n",
    "    noise = np.random.normal(0, 1, x0Image.shape)\n",
    "    noisy = np.sqrt(alphaBar[t])*x0Image + np.sqrt(1-alphaBar[t])*noise\n",
    "    return noise, noisy\n"
   ]
  },
  {
   "cell_type": "code",
   "execution_count": 3,
   "id": "6d4319dc",
   "metadata": {},
   "outputs": [],
   "source": [
    "variance = np.append(np.array([0]), beta[1:]*(1-alphaBar[0:T-1])/(1-alphaBar[1:T]))\n",
    "def backwardStep(xt, t, predNoise):\n",
    "    if t>1:\n",
    "        randNoise = tf.random.normal(xt.shape)\n",
    "    else:\n",
    "        randNoise= tf.zeros(xt.shape)\n",
    "\n",
    "    # sigPred = np.sqrt(beta)\n",
    "    # xtPrev = (1/np.sqrt(alpha[t])) * (xt - (1-alpha[t])/(np.sqrt(1-alphaBar[t])) * predNoise) + sigPred[t]*randNoise\n",
    "\n",
    "    x0Pred = (1/np.sqrt(alphaBar[t])) * (xt - np.sqrt(1-alphaBar[t]) * predNoise)\n",
    "    x0Pred = np.clip(x0Pred, -1.0, 1.0)\n",
    "    meanPred = beta[t] * (np.sqrt(alphaBar[t-1]))/(1-alphaBar[t]) * x0Pred + (1-alphaBar[t-1])*(np.sqrt(alpha[t]))/(1-alphaBar[t]) * xt\n",
    "    xtPrev = meanPred + np.sqrt(variance[t]) * randNoise\n",
    "\n",
    "    return xtPrev\n",
    "\n"
   ]
  },
  {
   "cell_type": "code",
   "execution_count": 4,
   "id": "cfdac093",
   "metadata": {},
   "outputs": [],
   "source": [
    "def postprocessImage(im):\n",
    "    return np.clip(im/2+0.5,0,1)"
   ]
  },
  {
   "cell_type": "markdown",
   "id": "2143ffe5",
   "metadata": {},
   "source": [
    "## Tensorflow"
   ]
  },
  {
   "cell_type": "code",
   "execution_count": 8,
   "id": "f6afa90e",
   "metadata": {},
   "outputs": [
    {
     "name": "stdout",
     "output_type": "stream",
     "text": [
      "WARNING:tensorflow:No training configuration found in save file, so the model was *not* compiled. Compile it manually.\n"
     ]
    }
   ],
   "source": [
    "model = tf.keras.models.load_model(os.path.join(DATA_PATH, \"unet_T1000_K32epoch_630\"))\n",
    "IMAGE_SIZE=[64,64]"
   ]
  },
  {
   "cell_type": "code",
   "execution_count": 11,
   "id": "68fdecd0",
   "metadata": {},
   "outputs": [],
   "source": [
    "def generateImages(BatchSize=64):\n",
    "    initInput = tf.random.normal((BatchSize, *IMAGE_SIZE, 3), dtype=tf.float32)\n",
    "    samples = initInput\n",
    "\n",
    "    for t in np.arange(1,T)[::-1]:\n",
    "        predNoise = model((samples, tf.repeat(t, repeats=BatchSize)), training=False)\n",
    "        xt = samples\n",
    "        \n",
    "        new = backwardStep(xt, t, predNoise=predNoise)\n",
    "\n",
    "        samples = new\n",
    "        \n",
    "    return samples\n",
    "\n"
   ]
  },
  {
   "cell_type": "code",
   "execution_count": 12,
   "id": "fb0d54f1",
   "metadata": {},
   "outputs": [
    {
     "name": "stderr",
     "output_type": "stream",
     "text": [
      "100%|██████████| 2/2 [08:41<00:00, 260.98s/it]\n"
     ]
    }
   ],
   "source": [
    "N=2\n",
    "\n",
    "for n in tqdm(range(N)):\n",
    "    images = generateImages(100)\n",
    "    images = postprocessImage(images)\n",
    "    for i in range(images.shape[0]):\n",
    "        im = Image.fromarray(np.array(images[i,:,:,:]*255).astype(np.uint8), \"RGB\" )\n",
    "        im.save(os.path.join(DATA_PATH,\"results/\"+ str(n*100+i)+\".jpg\"),quality=80)\n",
    "        "
   ]
  },
  {
   "cell_type": "code",
   "execution_count": null,
   "id": "81099302",
   "metadata": {},
   "outputs": [],
   "source": [
    "im = Image.fromarray(np.array(images[0,:,:,:]*255).astype(np.uint8), \"RGB\" )\n",
    "# np.array(img).astype(np.uint8).transpose(1,2,0)"
   ]
  },
  {
   "cell_type": "code",
   "execution_count": null,
   "id": "6162ffba",
   "metadata": {},
   "outputs": [],
   "source": [
    "os.path.join(DATA_PATH, \"results\", str(i)+\".jpg\")"
   ]
  },
  {
   "cell_type": "code",
   "execution_count": null,
   "id": "bf5e06a6",
   "metadata": {},
   "outputs": [],
   "source": [
    "im.save(os.path.join(DATA_PATH,\"results/\"+ str(i)+\".jpg\"))"
   ]
  }
 ],
 "metadata": {
  "kernelspec": {
   "display_name": "Python 3 (ipykernel)",
   "language": "python",
   "name": "python3"
  },
  "language_info": {
   "codemirror_mode": {
    "name": "ipython",
    "version": 3
   },
   "file_extension": ".py",
   "mimetype": "text/x-python",
   "name": "python",
   "nbconvert_exporter": "python",
   "pygments_lexer": "ipython3",
   "version": "3.9.16"
  }
 },
 "nbformat": 4,
 "nbformat_minor": 5
}
