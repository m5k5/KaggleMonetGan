{
 "cells": [
  {
   "cell_type": "code",
   "execution_count": 1,
   "id": "9c1d77e7",
   "metadata": {},
   "outputs": [
    {
     "name": "stderr",
     "output_type": "stream",
     "text": [
      "2023-09-06 22:41:35.147933: I tensorflow/core/platform/cpu_feature_guard.cc:182] This TensorFlow binary is optimized to use available CPU instructions in performance-critical operations.\n",
      "To enable the following instructions: AVX2 FMA, in other operations, rebuild TensorFlow with the appropriate compiler flags.\n",
      "2023-09-06 22:41:35.591196: W tensorflow/compiler/tf2tensorrt/utils/py_utils.cc:38] TF-TRT Warning: Could not find TensorRT\n"
     ]
    },
    {
     "name": "stdout",
     "output_type": "stream",
     "text": [
      "Num GPUs Available:  1\n",
      "/mnt/e/ML/MonetGAN\n"
     ]
    },
    {
     "name": "stderr",
     "output_type": "stream",
     "text": [
      "2023-09-06 22:41:36.502486: I tensorflow/compiler/xla/stream_executor/cuda/cuda_gpu_executor.cc:981] could not open file to read NUMA node: /sys/bus/pci/devices/0000:2b:00.0/numa_node\n",
      "Your kernel may have been built without NUMA support.\n",
      "2023-09-06 22:41:36.520729: I tensorflow/compiler/xla/stream_executor/cuda/cuda_gpu_executor.cc:981] could not open file to read NUMA node: /sys/bus/pci/devices/0000:2b:00.0/numa_node\n",
      "Your kernel may have been built without NUMA support.\n",
      "2023-09-06 22:41:36.521040: I tensorflow/compiler/xla/stream_executor/cuda/cuda_gpu_executor.cc:981] could not open file to read NUMA node: /sys/bus/pci/devices/0000:2b:00.0/numa_node\n",
      "Your kernel may have been built without NUMA support.\n"
     ]
    }
   ],
   "source": [
    "import os\n",
    "import numpy as np\n",
    "import tensorflow as tf\n",
    "import pandas as pd\n",
    "import datetime\n",
    "from tqdm import tqdm\n",
    "import matplotlib.pyplot as plt\n",
    "from PIL import Image\n",
    "import itertools as iter\n",
    "from random import shuffle\n",
    "\n",
    "physical_devices = tf.config.list_physical_devices('GPU')\n",
    "print(\"Num GPUs Available: \", len(physical_devices))\n",
    "\n",
    "\n",
    "DATA_PATH = os.getenv('DATA_PATH')\n",
    "print(DATA_PATH)\n"
   ]
  },
  {
   "cell_type": "code",
   "execution_count": 2,
   "id": "c815ad98",
   "metadata": {},
   "outputs": [],
   "source": [
    "T=1000\n",
    "beta = np.linspace(1e-4, 0.04, T)\n",
    "alpha = 1-beta\n",
    "alphaBar = [np.prod(alpha[0:i+1]) for i,el in enumerate(alpha)]\n",
    "IMAGE_SIZE = [256,256]\n",
    "tValues = np.arange(0,T)\n",
    "# alphaBar = np.cos((tValues/(T+1) + 0.008)/(1 + 0.008) * np.pi/2) \n",
    "# np.random.shuffle(tValues)\n",
    "\n",
    "\n",
    "#Cosine schedule\n",
    "# def f(t):\n",
    "#     return np.cos((t/T + 0.008)/(1 + 0.008) * np.pi/2)**2\n",
    "\n",
    "# alphaBar = f(tValues)\n",
    "# alpha = (alphaBar[1:])/(alphaBar[0:-1])\n",
    "# alpha = np.insert(alpha, 0, alphaBar[0])\n",
    "# beta = 1 - alpha\n",
    "\n",
    "\n",
    "# Simple linear\n",
    "alphaBar = np.clip(1-tValues/T, 0.0001, 0.9999)\n",
    "alpha = (alphaBar[1:])/(alphaBar[0:-1])\n",
    "alpha = np.insert(alpha, 0, alphaBar[0])\n",
    "beta = 1 - alpha\n",
    "\n",
    "\n",
    "\n",
    "def forwardStep(x0Image,t):\n",
    "    noise = np.random.normal(0, 1, x0Image.shape)\n",
    "    noisy = np.sqrt(alphaBar[t])*x0Image + np.sqrt(1-alphaBar[t])*noise\n",
    "    return noise, noisy\n"
   ]
  },
  {
   "cell_type": "code",
   "execution_count": 3,
   "id": "6d4319dc",
   "metadata": {},
   "outputs": [],
   "source": [
    "variance = np.append(np.array([0]), beta[1:]*(1-alphaBar[0:T-1])/(1-alphaBar[1:T]))\n",
    "def backwardStep(xt, t, predNoise):\n",
    "    if t>1:\n",
    "        randNoise = tf.random.normal(xt.shape)\n",
    "    else:\n",
    "        randNoise= tf.zeros(xt.shape)\n",
    "\n",
    "    # sigPred = np.sqrt(beta)\n",
    "    # xtPrev = (1/np.sqrt(alpha[t])) * (xt - (1-alpha[t])/(np.sqrt(1-alphaBar[t])) * predNoise) + sigPred[t]*randNoise\n",
    "\n",
    "    x0Pred = (1/np.sqrt(alphaBar[t])) * (xt - np.sqrt(1-alphaBar[t]) * predNoise)\n",
    "    x0Pred = np.clip(x0Pred, -1.0, 1.0)\n",
    "    meanPred = beta[t] * (np.sqrt(alphaBar[t-1]))/(1-alphaBar[t]) * x0Pred + (1-alphaBar[t-1])*(np.sqrt(alpha[t]))/(1-alphaBar[t]) * xt\n",
    "    xtPrev = meanPred + np.sqrt(variance[t]) * randNoise\n",
    "\n",
    "    return xtPrev\n",
    "\n"
   ]
  },
  {
   "cell_type": "code",
   "execution_count": 4,
   "id": "cfdac093",
   "metadata": {},
   "outputs": [],
   "source": [
    "def postprocessImage(im):\n",
    "    return np.clip(im/2+0.5,0,1)"
   ]
  },
  {
   "cell_type": "markdown",
   "id": "2143ffe5",
   "metadata": {},
   "source": [
    "## Tensorflow"
   ]
  },
  {
   "cell_type": "code",
   "execution_count": 5,
   "id": "f6afa90e",
   "metadata": {},
   "outputs": [
    {
     "name": "stderr",
     "output_type": "stream",
     "text": [
      "2023-09-06 22:41:42.498883: I tensorflow/compiler/xla/stream_executor/cuda/cuda_gpu_executor.cc:981] could not open file to read NUMA node: /sys/bus/pci/devices/0000:2b:00.0/numa_node\n",
      "Your kernel may have been built without NUMA support.\n",
      "2023-09-06 22:41:42.499234: I tensorflow/compiler/xla/stream_executor/cuda/cuda_gpu_executor.cc:981] could not open file to read NUMA node: /sys/bus/pci/devices/0000:2b:00.0/numa_node\n",
      "Your kernel may have been built without NUMA support.\n",
      "2023-09-06 22:41:42.499538: I tensorflow/compiler/xla/stream_executor/cuda/cuda_gpu_executor.cc:981] could not open file to read NUMA node: /sys/bus/pci/devices/0000:2b:00.0/numa_node\n",
      "Your kernel may have been built without NUMA support.\n",
      "2023-09-06 22:41:42.960647: I tensorflow/compiler/xla/stream_executor/cuda/cuda_gpu_executor.cc:981] could not open file to read NUMA node: /sys/bus/pci/devices/0000:2b:00.0/numa_node\n",
      "Your kernel may have been built without NUMA support.\n",
      "2023-09-06 22:41:42.961019: I tensorflow/compiler/xla/stream_executor/cuda/cuda_gpu_executor.cc:981] could not open file to read NUMA node: /sys/bus/pci/devices/0000:2b:00.0/numa_node\n",
      "Your kernel may have been built without NUMA support.\n",
      "2023-09-06 22:41:42.961031: I tensorflow/core/common_runtime/gpu/gpu_device.cc:1726] Could not identify NUMA node of platform GPU id 0, defaulting to 0.  Your kernel may not have been built with NUMA support.\n",
      "2023-09-06 22:41:42.961375: I tensorflow/compiler/xla/stream_executor/cuda/cuda_gpu_executor.cc:981] could not open file to read NUMA node: /sys/bus/pci/devices/0000:2b:00.0/numa_node\n",
      "Your kernel may have been built without NUMA support.\n",
      "2023-09-06 22:41:42.961408: I tensorflow/core/common_runtime/gpu/gpu_device.cc:1639] Created device /job:localhost/replica:0/task:0/device:GPU:0 with 6595 MB memory:  -> device: 0, name: NVIDIA GeForce GTX 1070, pci bus id: 0000:2b:00.0, compute capability: 6.1\n"
     ]
    },
    {
     "name": "stdout",
     "output_type": "stream",
     "text": [
      "WARNING:tensorflow:No training configuration found in save file, so the model was *not* compiled. Compile it manually.\n"
     ]
    }
   ],
   "source": [
    "model = tf.keras.models.load_model(os.path.join(DATA_PATH, \"unet_T1000_K16_DIM128epoch_822\"))\n",
    "IMAGE_SIZE=[128,128]"
   ]
  },
  {
   "cell_type": "code",
   "execution_count": 6,
   "id": "68fdecd0",
   "metadata": {},
   "outputs": [],
   "source": [
    "def generateImages(BatchSize=64):\n",
    "    initInput = tf.random.normal((BatchSize, *IMAGE_SIZE, 3), dtype=tf.float32)\n",
    "    samples = initInput\n",
    "\n",
    "    for t in np.arange(1,T)[::-1]:\n",
    "        predNoise = model((samples, tf.repeat(t, repeats=BatchSize)), training=False)\n",
    "        xt = samples\n",
    "        \n",
    "        new = backwardStep(xt, t, predNoise=predNoise)\n",
    "\n",
    "        samples = new\n",
    "        \n",
    "    return samples\n",
    "\n"
   ]
  },
  {
   "cell_type": "code",
   "execution_count": 7,
   "id": "fb0d54f1",
   "metadata": {},
   "outputs": [
    {
     "name": "stderr",
     "output_type": "stream",
     "text": [
      "  0%|          | 0/2 [00:00<?, ?it/s]2023-09-06 22:41:53.669771: I tensorflow/compiler/xla/stream_executor/cuda/cuda_dnn.cc:432] Loaded cuDNN version 8600\n",
      " 50%|█████     | 1/2 [10:08<10:08, 608.08s/it]\n"
     ]
    },
    {
     "ename": "KeyboardInterrupt",
     "evalue": "",
     "output_type": "error",
     "traceback": [
      "\u001b[0;31m---------------------------------------------------------------------------\u001b[0m",
      "\u001b[0;31mKeyboardInterrupt\u001b[0m                         Traceback (most recent call last)",
      "Cell \u001b[0;32mIn[7], line 4\u001b[0m\n\u001b[1;32m      1\u001b[0m N\u001b[39m=\u001b[39m\u001b[39m2\u001b[39m\n\u001b[1;32m      3\u001b[0m \u001b[39mfor\u001b[39;00m n \u001b[39min\u001b[39;00m tqdm(\u001b[39mrange\u001b[39m(N)):\n\u001b[0;32m----> 4\u001b[0m     images \u001b[39m=\u001b[39m generateImages(\u001b[39m100\u001b[39;49m)\n\u001b[1;32m      5\u001b[0m     images \u001b[39m=\u001b[39m postprocessImage(images)\n\u001b[1;32m      6\u001b[0m     \u001b[39mfor\u001b[39;00m i \u001b[39min\u001b[39;00m \u001b[39mrange\u001b[39m(images\u001b[39m.\u001b[39mshape[\u001b[39m0\u001b[39m]):\n",
      "Cell \u001b[0;32mIn[6], line 9\u001b[0m, in \u001b[0;36mgenerateImages\u001b[0;34m(BatchSize)\u001b[0m\n\u001b[1;32m      6\u001b[0m     predNoise \u001b[39m=\u001b[39m model((samples, tf\u001b[39m.\u001b[39mrepeat(t, repeats\u001b[39m=\u001b[39mBatchSize)), training\u001b[39m=\u001b[39m\u001b[39mFalse\u001b[39;00m)\n\u001b[1;32m      7\u001b[0m     xt \u001b[39m=\u001b[39m samples\n\u001b[0;32m----> 9\u001b[0m     new \u001b[39m=\u001b[39m backwardStep(xt, t, predNoise\u001b[39m=\u001b[39;49mpredNoise)\n\u001b[1;32m     11\u001b[0m     samples \u001b[39m=\u001b[39m new\n\u001b[1;32m     13\u001b[0m \u001b[39mreturn\u001b[39;00m samples\n",
      "Cell \u001b[0;32mIn[3], line 12\u001b[0m, in \u001b[0;36mbackwardStep\u001b[0;34m(xt, t, predNoise)\u001b[0m\n\u001b[1;32m      8\u001b[0m \u001b[39m# sigPred = np.sqrt(beta)\u001b[39;00m\n\u001b[1;32m      9\u001b[0m \u001b[39m# xtPrev = (1/np.sqrt(alpha[t])) * (xt - (1-alpha[t])/(np.sqrt(1-alphaBar[t])) * predNoise) + sigPred[t]*randNoise\u001b[39;00m\n\u001b[1;32m     11\u001b[0m x0Pred \u001b[39m=\u001b[39m (\u001b[39m1\u001b[39m\u001b[39m/\u001b[39mnp\u001b[39m.\u001b[39msqrt(alphaBar[t])) \u001b[39m*\u001b[39m (xt \u001b[39m-\u001b[39m np\u001b[39m.\u001b[39msqrt(\u001b[39m1\u001b[39m\u001b[39m-\u001b[39malphaBar[t]) \u001b[39m*\u001b[39m predNoise)\n\u001b[0;32m---> 12\u001b[0m x0Pred \u001b[39m=\u001b[39m np\u001b[39m.\u001b[39;49mclip(x0Pred, \u001b[39m-\u001b[39;49m\u001b[39m1.0\u001b[39;49m, \u001b[39m1.0\u001b[39;49m)\n\u001b[1;32m     13\u001b[0m meanPred \u001b[39m=\u001b[39m beta[t] \u001b[39m*\u001b[39m (np\u001b[39m.\u001b[39msqrt(alphaBar[t\u001b[39m-\u001b[39m\u001b[39m1\u001b[39m]))\u001b[39m/\u001b[39m(\u001b[39m1\u001b[39m\u001b[39m-\u001b[39malphaBar[t]) \u001b[39m*\u001b[39m x0Pred \u001b[39m+\u001b[39m (\u001b[39m1\u001b[39m\u001b[39m-\u001b[39malphaBar[t\u001b[39m-\u001b[39m\u001b[39m1\u001b[39m])\u001b[39m*\u001b[39m(np\u001b[39m.\u001b[39msqrt(alpha[t]))\u001b[39m/\u001b[39m(\u001b[39m1\u001b[39m\u001b[39m-\u001b[39malphaBar[t]) \u001b[39m*\u001b[39m xt\n\u001b[1;32m     14\u001b[0m xtPrev \u001b[39m=\u001b[39m meanPred \u001b[39m+\u001b[39m np\u001b[39m.\u001b[39msqrt(variance[t]) \u001b[39m*\u001b[39m randNoise\n",
      "File \u001b[0;32m<__array_function__ internals>:200\u001b[0m, in \u001b[0;36mclip\u001b[0;34m(*args, **kwargs)\u001b[0m\n",
      "File \u001b[0;32m~/miniconda3/envs/tf/lib/python3.9/site-packages/numpy/core/fromnumeric.py:2180\u001b[0m, in \u001b[0;36mclip\u001b[0;34m(a, a_min, a_max, out, **kwargs)\u001b[0m\n\u001b[1;32m   2111\u001b[0m \u001b[39m@array_function_dispatch\u001b[39m(_clip_dispatcher)\n\u001b[1;32m   2112\u001b[0m \u001b[39mdef\u001b[39;00m \u001b[39mclip\u001b[39m(a, a_min, a_max, out\u001b[39m=\u001b[39m\u001b[39mNone\u001b[39;00m, \u001b[39m*\u001b[39m\u001b[39m*\u001b[39mkwargs):\n\u001b[1;32m   2113\u001b[0m \u001b[39m    \u001b[39m\u001b[39m\"\"\"\u001b[39;00m\n\u001b[1;32m   2114\u001b[0m \u001b[39m    Clip (limit) the values in an array.\u001b[39;00m\n\u001b[1;32m   2115\u001b[0m \n\u001b[0;32m   (...)\u001b[0m\n\u001b[1;32m   2178\u001b[0m \n\u001b[1;32m   2179\u001b[0m \u001b[39m    \"\"\"\u001b[39;00m\n\u001b[0;32m-> 2180\u001b[0m     \u001b[39mreturn\u001b[39;00m _wrapfunc(a, \u001b[39m'\u001b[39;49m\u001b[39mclip\u001b[39;49m\u001b[39m'\u001b[39;49m, a_min, a_max, out\u001b[39m=\u001b[39;49mout, \u001b[39m*\u001b[39;49m\u001b[39m*\u001b[39;49mkwargs)\n",
      "File \u001b[0;32m~/miniconda3/envs/tf/lib/python3.9/site-packages/numpy/core/fromnumeric.py:54\u001b[0m, in \u001b[0;36m_wrapfunc\u001b[0;34m(obj, method, *args, **kwds)\u001b[0m\n\u001b[1;32m     52\u001b[0m bound \u001b[39m=\u001b[39m \u001b[39mgetattr\u001b[39m(obj, method, \u001b[39mNone\u001b[39;00m)\n\u001b[1;32m     53\u001b[0m \u001b[39mif\u001b[39;00m bound \u001b[39mis\u001b[39;00m \u001b[39mNone\u001b[39;00m:\n\u001b[0;32m---> 54\u001b[0m     \u001b[39mreturn\u001b[39;00m _wrapit(obj, method, \u001b[39m*\u001b[39;49margs, \u001b[39m*\u001b[39;49m\u001b[39m*\u001b[39;49mkwds)\n\u001b[1;32m     56\u001b[0m \u001b[39mtry\u001b[39;00m:\n\u001b[1;32m     57\u001b[0m     \u001b[39mreturn\u001b[39;00m bound(\u001b[39m*\u001b[39margs, \u001b[39m*\u001b[39m\u001b[39m*\u001b[39mkwds)\n",
      "File \u001b[0;32m~/miniconda3/envs/tf/lib/python3.9/site-packages/numpy/core/fromnumeric.py:43\u001b[0m, in \u001b[0;36m_wrapit\u001b[0;34m(obj, method, *args, **kwds)\u001b[0m\n\u001b[1;32m     41\u001b[0m \u001b[39mexcept\u001b[39;00m \u001b[39mAttributeError\u001b[39;00m:\n\u001b[1;32m     42\u001b[0m     wrap \u001b[39m=\u001b[39m \u001b[39mNone\u001b[39;00m\n\u001b[0;32m---> 43\u001b[0m result \u001b[39m=\u001b[39m \u001b[39mgetattr\u001b[39m(asarray(obj), method)(\u001b[39m*\u001b[39margs, \u001b[39m*\u001b[39m\u001b[39m*\u001b[39mkwds)\n\u001b[1;32m     44\u001b[0m \u001b[39mif\u001b[39;00m wrap:\n\u001b[1;32m     45\u001b[0m     \u001b[39mif\u001b[39;00m \u001b[39mnot\u001b[39;00m \u001b[39misinstance\u001b[39m(result, mu\u001b[39m.\u001b[39mndarray):\n",
      "\u001b[0;31mKeyboardInterrupt\u001b[0m: "
     ]
    }
   ],
   "source": [
    "N=2\n",
    "\n",
    "for n in tqdm(range(N)):\n",
    "    images = generateImages(100)\n",
    "    images = postprocessImage(images)\n",
    "    for i in range(images.shape[0]):\n",
    "        im = Image.fromarray(np.array(images[i,:,:,:]*255).astype(np.uint8), \"RGB\" )\n",
    "        im.save(os.path.join(DATA_PATH,\"results/\"+ str(n*100+i)+\".jpg\"),quality=80)\n",
    "        "
   ]
  },
  {
   "cell_type": "code",
   "execution_count": null,
   "id": "81099302",
   "metadata": {},
   "outputs": [],
   "source": [
    "im = Image.fromarray(np.array(images[0,:,:,:]*255).astype(np.uint8), \"RGB\" )\n",
    "# np.array(img).astype(np.uint8).transpose(1,2,0)"
   ]
  },
  {
   "cell_type": "code",
   "execution_count": null,
   "id": "6162ffba",
   "metadata": {},
   "outputs": [],
   "source": [
    "os.path.join(DATA_PATH, \"results\", str(i)+\".jpg\")"
   ]
  },
  {
   "cell_type": "code",
   "execution_count": null,
   "id": "bf5e06a6",
   "metadata": {},
   "outputs": [],
   "source": [
    "im.save(os.path.join(DATA_PATH,\"results/\"+ str(i)+\".jpg\"))"
   ]
  }
 ],
 "metadata": {
  "kernelspec": {
   "display_name": "Python 3 (ipykernel)",
   "language": "python",
   "name": "python3"
  },
  "language_info": {
   "codemirror_mode": {
    "name": "ipython",
    "version": 3
   },
   "file_extension": ".py",
   "mimetype": "text/x-python",
   "name": "python",
   "nbconvert_exporter": "python",
   "pygments_lexer": "ipython3",
   "version": "3.9.16"
  }
 },
 "nbformat": 4,
 "nbformat_minor": 5
}
