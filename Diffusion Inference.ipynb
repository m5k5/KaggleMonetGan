{
 "cells": [
  {
   "cell_type": "code",
   "execution_count": 39,
   "id": "9c1d77e7",
   "metadata": {},
   "outputs": [
    {
     "name": "stdout",
     "output_type": "stream",
     "text": [
      "Num GPUs Available:  1\n",
      "/mnt/e/ML/MonetGAN\n"
     ]
    }
   ],
   "source": [
    "import os\n",
    "import numpy as np\n",
    "import tensorflow as tf\n",
    "import pandas as pd\n",
    "import datetime\n",
    "from tqdm import tqdm\n",
    "import matplotlib.pyplot as plt\n",
    "from PIL import Image\n",
    "import itertools as iter\n",
    "from random import shuffle\n",
    "\n",
    "physical_devices = tf.config.list_physical_devices('GPU')\n",
    "print(\"Num GPUs Available: \", len(physical_devices))\n",
    "\n",
    "\n",
    "DATA_PATH = os.getenv('DATA_PATH')\n",
    "print(DATA_PATH)\n"
   ]
  },
  {
   "cell_type": "code",
   "execution_count": 2,
   "id": "c815ad98",
   "metadata": {},
   "outputs": [],
   "source": [
    "T=300\n",
    "beta = np.linspace(1e-4, 0.04, T)\n",
    "alpha = 1-beta\n",
    "alphaBar = [np.prod(alpha[0:i+1]) for i,el in enumerate(alpha)]\n",
    "IMAGE_SIZE = [256,256]\n",
    "tValues = np.arange(0,T)\n",
    "# alphaBar = np.cos((tValues/(T+1) + 0.008)/(1 + 0.008) * np.pi/2) \n",
    "# np.random.shuffle(tValues)\n",
    "\n",
    "\n",
    "\n",
    "\n",
    "def forwardStep(x0Image,t):\n",
    "    noise = np.random.normal(0, 1, x0Image.shape)\n",
    "    noisy = np.sqrt(alphaBar[t])*x0Image + np.sqrt(1-alphaBar[t])*noise\n",
    "    return noise, noisy\n"
   ]
  },
  {
   "cell_type": "code",
   "execution_count": 3,
   "id": "6d4319dc",
   "metadata": {},
   "outputs": [],
   "source": [
    "\n",
    "\n",
    "def backwardStep(xt, t, predNoise=None, x0Pred=None):\n",
    "\n",
    "    if x0Pred is None:\n",
    "        x0Pred=(xt - np.sqrt(1-alphaBar[t])*predNoise)/np.sqrt(alphaBar[t])\n",
    "\n",
    "    if t==0:\n",
    "        sample = x0Pred\n",
    "        noise= np.zeros(xt.shape)\n",
    "    else:\n",
    "        # estimate mean\n",
    "        meanPred= x0Pred * (np.sqrt(alphaBar[t])*beta[t])/((1-alphaBar[t])*np.sqrt(alpha[t])) + xt*(alpha[t]-alphaBar[t])/((1-alphaBar[t])*np.sqrt(alpha[t]))\n",
    "\n",
    "        # compute variance\n",
    "        betaPred = np.sqrt(beta[t])\n",
    "\n",
    "        sample = meanPred + betaPred*np.random.normal(0,1,xt.shape)\n",
    "\n",
    "        noise=(sample-x0Pred*np.sqrt(alphaBar[t-1]))/np.sqrt(1-alphaBar[t-1])\n",
    "\n",
    "    return sample, noise\n",
    "\n"
   ]
  },
  {
   "cell_type": "code",
   "execution_count": 4,
   "id": "cfdac093",
   "metadata": {},
   "outputs": [],
   "source": [
    "def postprocessImage(im):\n",
    "    return np.clip(im/2+0.5,0,1)"
   ]
  },
  {
   "cell_type": "markdown",
   "id": "2143ffe5",
   "metadata": {},
   "source": [
    "## Tensorflow"
   ]
  },
  {
   "cell_type": "code",
   "execution_count": 5,
   "id": "f6afa90e",
   "metadata": {},
   "outputs": [
    {
     "name": "stderr",
     "output_type": "stream",
     "text": [
      "2023-08-25 21:36:28.585944: I tensorflow/compiler/xla/stream_executor/cuda/cuda_gpu_executor.cc:981] could not open file to read NUMA node: /sys/bus/pci/devices/0000:2b:00.0/numa_node\n",
      "Your kernel may have been built without NUMA support.\n",
      "2023-08-25 21:36:28.586295: I tensorflow/compiler/xla/stream_executor/cuda/cuda_gpu_executor.cc:981] could not open file to read NUMA node: /sys/bus/pci/devices/0000:2b:00.0/numa_node\n",
      "Your kernel may have been built without NUMA support.\n",
      "2023-08-25 21:36:28.586596: I tensorflow/compiler/xla/stream_executor/cuda/cuda_gpu_executor.cc:981] could not open file to read NUMA node: /sys/bus/pci/devices/0000:2b:00.0/numa_node\n",
      "Your kernel may have been built without NUMA support.\n",
      "2023-08-25 21:36:29.058280: I tensorflow/compiler/xla/stream_executor/cuda/cuda_gpu_executor.cc:981] could not open file to read NUMA node: /sys/bus/pci/devices/0000:2b:00.0/numa_node\n",
      "Your kernel may have been built without NUMA support.\n",
      "2023-08-25 21:36:29.058685: I tensorflow/compiler/xla/stream_executor/cuda/cuda_gpu_executor.cc:981] could not open file to read NUMA node: /sys/bus/pci/devices/0000:2b:00.0/numa_node\n",
      "Your kernel may have been built without NUMA support.\n",
      "2023-08-25 21:36:29.058702: I tensorflow/core/common_runtime/gpu/gpu_device.cc:1726] Could not identify NUMA node of platform GPU id 0, defaulting to 0.  Your kernel may not have been built with NUMA support.\n",
      "2023-08-25 21:36:29.059095: I tensorflow/compiler/xla/stream_executor/cuda/cuda_gpu_executor.cc:981] could not open file to read NUMA node: /sys/bus/pci/devices/0000:2b:00.0/numa_node\n",
      "Your kernel may have been built without NUMA support.\n",
      "2023-08-25 21:36:29.059147: I tensorflow/core/common_runtime/gpu/gpu_device.cc:1639] Created device /job:localhost/replica:0/task:0/device:GPU:0 with 6595 MB memory:  -> device: 0, name: NVIDIA GeForce GTX 1070, pci bus id: 0000:2b:00.0, compute capability: 6.1\n"
     ]
    },
    {
     "name": "stdout",
     "output_type": "stream",
     "text": [
      "WARNING:tensorflow:No training configuration found in save file, so the model was *not* compiled. Compile it manually.\n"
     ]
    }
   ],
   "source": [
    "model = tf.keras.models.load_model(os.path.join(DATA_PATH, \"diffusionModel_epoch_2_step_800\"))\n",
    "IMAGE_SIZE=[256,256]"
   ]
  },
  {
   "cell_type": "code",
   "execution_count": 6,
   "id": "68fdecd0",
   "metadata": {},
   "outputs": [],
   "source": [
    "def generateImages(BatchSize=64):\n",
    "    initInput = tf.random.normal((BatchSize, *IMAGE_SIZE, 3), dtype=tf.float32)\n",
    "    samples = initInput\n",
    "\n",
    "    for t in np.arange(0,T)[::-1]:\n",
    "        predX0 = model((samples, tf.repeat(t, repeats=BatchSize)), training=False)\n",
    "        xt = samples\n",
    "        \n",
    "        new, noise = backwardStep(xt, t, x0Pred=predX0)\n",
    "\n",
    "        samples = new\n",
    "        \n",
    "    return samples\n",
    "\n"
   ]
  },
  {
   "cell_type": "code",
   "execution_count": 40,
   "id": "fb0d54f1",
   "metadata": {},
   "outputs": [
    {
     "name": "stderr",
     "output_type": "stream",
     "text": [
      "  0%|          | 0/70 [00:00<?, ?it/s]"
     ]
    }
   ],
   "source": [
    "N=70\n",
    "\n",
    "for n in tqdm(range(N)):\n",
    "    images = generateImages(100)\n",
    "    images = postprocessImage(images)\n",
    "    for i in range(images.shape[0]):\n",
    "        im = Image.fromarray(np.array(images[i,:,:,:]*255).astype(np.uint8), \"RGB\" )\n",
    "        im.save(os.path.join(DATA_PATH,\"results/\"+ str(n*100+i)+\".jpg\"),quality=80)\n",
    "        "
   ]
  },
  {
   "cell_type": "code",
   "execution_count": 29,
   "id": "81099302",
   "metadata": {},
   "outputs": [],
   "source": [
    "im = Image.fromarray(np.array(images[0,:,:,:]*255).astype(np.uint8), \"RGB\" )\n",
    "# np.array(img).astype(np.uint8).transpose(1,2,0)"
   ]
  },
  {
   "cell_type": "code",
   "execution_count": 27,
   "id": "6162ffba",
   "metadata": {},
   "outputs": [
    {
     "data": {
      "text/plain": [
       "'/mnt/e/ML/MonetGAN/results/0.jpg'"
      ]
     },
     "execution_count": 27,
     "metadata": {},
     "output_type": "execute_result"
    }
   ],
   "source": [
    "os.path.join(DATA_PATH, \"results\", str(i)+\".jpg\")"
   ]
  },
  {
   "cell_type": "code",
   "execution_count": 36,
   "id": "bf5e06a6",
   "metadata": {},
   "outputs": [],
   "source": [
    "im.save(os.path.join(DATA_PATH,\"results/\"+ str(i)+\".jpg\"))"
   ]
  }
 ],
 "metadata": {
  "kernelspec": {
   "display_name": "Python 3 (ipykernel)",
   "language": "python",
   "name": "python3"
  },
  "language_info": {
   "codemirror_mode": {
    "name": "ipython",
    "version": 3
   },
   "file_extension": ".py",
   "mimetype": "text/x-python",
   "name": "python",
   "nbconvert_exporter": "python",
   "pygments_lexer": "ipython3",
   "version": "3.9.16"
  }
 },
 "nbformat": 4,
 "nbformat_minor": 5
}
