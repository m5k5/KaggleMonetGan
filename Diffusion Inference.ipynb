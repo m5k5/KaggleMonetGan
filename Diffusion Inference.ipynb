{
 "cells": [
  {
   "cell_type": "code",
   "execution_count": null,
   "id": "9c1d77e7",
   "metadata": {},
   "outputs": [],
   "source": [
    "import os\n",
    "import numpy as np\n",
    "import tensorflow as tf\n",
    "import pandas as pd\n",
    "import datetime\n",
    "from tqdm import tqdm\n",
    "import matplotlib.pyplot as plt\n",
    "from PIL import Image\n",
    "import itertools as iter\n",
    "from random import shuffle\n",
    "\n",
    "physical_devices = tf.config.list_physical_devices('GPU')\n",
    "print(\"Num GPUs Available: \", len(physical_devices))\n",
    "\n",
    "\n",
    "DATA_PATH = os.getenv('DATA_PATH')\n",
    "print(DATA_PATH)\n"
   ]
  },
  {
   "cell_type": "code",
   "execution_count": null,
   "id": "c815ad98",
   "metadata": {},
   "outputs": [],
   "source": [
    "T=300\n",
    "beta = np.linspace(1e-4, 0.04, T)\n",
    "alpha = 1-beta\n",
    "alphaBar = [np.prod(alpha[0:i+1]) for i,el in enumerate(alpha)]\n",
    "IMAGE_SIZE = [256,256]\n",
    "tValues = np.arange(0,T)\n",
    "# alphaBar = np.cos((tValues/(T+1) + 0.008)/(1 + 0.008) * np.pi/2) \n",
    "# np.random.shuffle(tValues)\n",
    "\n",
    "\n",
    "\n",
    "\n",
    "def forwardStep(x0Image,t):\n",
    "    noise = np.random.normal(0, 1, x0Image.shape)\n",
    "    noisy = np.sqrt(alphaBar[t])*x0Image + np.sqrt(1-alphaBar[t])*noise\n",
    "    return noise, noisy\n"
   ]
  },
  {
   "cell_type": "code",
   "execution_count": null,
   "id": "6d4319dc",
   "metadata": {},
   "outputs": [],
   "source": [
    "\n",
    "\n",
    "def backwardStep(xt, t, predNoise=None, x0Pred=None):\n",
    "\n",
    "    if x0Pred is None:\n",
    "        x0Pred=(xt - np.sqrt(1-alphaBar[t])*predNoise)/np.sqrt(alphaBar[t])\n",
    "\n",
    "    if t==0:\n",
    "        sample = x0Pred\n",
    "        noise= np.zeros(xt.shape)\n",
    "    else:\n",
    "        # estimate mean\n",
    "        meanPred= x0Pred * (np.sqrt(alphaBar[t])*beta[t])/((1-alphaBar[t])*np.sqrt(alpha[t])) + xt*(alpha[t]-alphaBar[t])/((1-alphaBar[t])*np.sqrt(alpha[t]))\n",
    "\n",
    "        # compute variance\n",
    "        betaPred = np.sqrt(beta[t])\n",
    "\n",
    "        sample = meanPred + betaPred*np.random.normal(0,1,xt.shape)\n",
    "\n",
    "        noise=(sample-x0Pred*np.sqrt(alphaBar[t-1]))/np.sqrt(1-alphaBar[t-1])\n",
    "\n",
    "    return sample, noise\n",
    "\n"
   ]
  },
  {
   "cell_type": "code",
   "execution_count": null,
   "id": "cfdac093",
   "metadata": {},
   "outputs": [],
   "source": [
    "def postprocessImage(im):\n",
    "    return np.clip(im/2+0.5,0,1)"
   ]
  },
  {
   "cell_type": "markdown",
   "id": "2143ffe5",
   "metadata": {},
   "source": [
    "## Tensorflow"
   ]
  },
  {
   "cell_type": "code",
   "execution_count": null,
   "id": "f6afa90e",
   "metadata": {},
   "outputs": [],
   "source": [
    "model = tf.keras.models.load_model(os.path.join(DATA_PATH, \"diffusionModel_epoch_2_step_800\"))\n",
    "IMAGE_SIZE=[256,256]"
   ]
  },
  {
   "cell_type": "code",
   "execution_count": null,
   "id": "68fdecd0",
   "metadata": {},
   "outputs": [],
   "source": [
    "def generateImages(BatchSize=64):\n",
    "    initInput = tf.random.normal((BatchSize, *IMAGE_SIZE, 3), dtype=tf.float32)\n",
    "    samples = initInput\n",
    "\n",
    "    for t in np.arange(0,T)[::-1]:\n",
    "        predX0 = model((samples, tf.repeat(t, repeats=BatchSize)), training=False)\n",
    "        xt = samples\n",
    "        \n",
    "        new, noise = backwardStep(xt, t, x0Pred=predX0)\n",
    "\n",
    "        samples = new\n",
    "        \n",
    "    return samples\n",
    "\n"
   ]
  },
  {
   "cell_type": "code",
   "execution_count": null,
   "id": "fb0d54f1",
   "metadata": {},
   "outputs": [],
   "source": [
    "N=70\n",
    "\n",
    "for n in tqdm(range(N)):\n",
    "    images = generateImages(100)\n",
    "    images = postprocessImage(images)\n",
    "    for i in range(images.shape[0]):\n",
    "        im = Image.fromarray(np.array(images[i,:,:,:]*255).astype(np.uint8), \"RGB\" )\n",
    "        im.save(os.path.join(DATA_PATH,\"results/\"+ str(n*100+i)+\".jpg\"),quality=80)\n",
    "        "
   ]
  },
  {
   "cell_type": "code",
   "execution_count": null,
   "id": "81099302",
   "metadata": {},
   "outputs": [],
   "source": [
    "im = Image.fromarray(np.array(images[0,:,:,:]*255).astype(np.uint8), \"RGB\" )\n",
    "# np.array(img).astype(np.uint8).transpose(1,2,0)"
   ]
  },
  {
   "cell_type": "code",
   "execution_count": null,
   "id": "6162ffba",
   "metadata": {},
   "outputs": [],
   "source": [
    "os.path.join(DATA_PATH, \"results\", str(i)+\".jpg\")"
   ]
  },
  {
   "cell_type": "code",
   "execution_count": null,
   "id": "bf5e06a6",
   "metadata": {},
   "outputs": [],
   "source": [
    "im.save(os.path.join(DATA_PATH,\"results/\"+ str(i)+\".jpg\"))"
   ]
  }
 ],
 "metadata": {
  "kernelspec": {
   "display_name": "Python 3 (ipykernel)",
   "language": "python",
   "name": "python3"
  },
  "language_info": {
   "codemirror_mode": {
    "name": "ipython",
    "version": 3
   },
   "file_extension": ".py",
   "mimetype": "text/x-python",
   "name": "python",
   "nbconvert_exporter": "python",
   "pygments_lexer": "ipython3",
   "version": "3.9.16"
  }
 },
 "nbformat": 4,
 "nbformat_minor": 5
}
