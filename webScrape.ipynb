{
 "cells": [
  {
   "cell_type": "code",
   "execution_count": 3,
   "metadata": {},
   "outputs": [
    {
     "name": "stdout",
     "output_type": "stream",
     "text": [
      "/mnt/e/ML/MonetGAN\n"
     ]
    }
   ],
   "source": [
    "from bs4 import BeautifulSoup\n",
    "import requests\n",
    "import json\n",
    "import os\n",
    "import numpy as np\n",
    "import pandas as pd\n",
    "from tqdm.notebook import tqdm\n",
    "\n",
    "\n",
    "DATA_PATH = os.getenv('DATA_PATH')\n",
    "print(DATA_PATH)"
   ]
  },
  {
   "cell_type": "code",
   "execution_count": 11,
   "metadata": {},
   "outputs": [
    {
     "data": {
      "text/plain": [
       "['https://www.wikiart.org/en/claude-monet/view-at-rouelles-le-havre',\n",
       " 'https://www.wikiart.org/en/claude-monet/a-corner-of-the-studio',\n",
       " 'https://www.wikiart.org/en/claude-monet/trophies-of-the-hunt']"
      ]
     },
     "execution_count": 11,
     "metadata": {},
     "output_type": "execute_result"
    }
   ],
   "source": [
    "with open(os.path.join(DATA_PATH, \"monetPaintingLinks.json\")) as f:\n",
    "    allPaintingLinks = json.load(f)\n",
    "allPaintingLinks[0:3]\n"
   ]
  },
  {
   "cell_type": "code",
   "execution_count": 12,
   "metadata": {},
   "outputs": [],
   "source": [
    "soup = BeautifulSoup(requests.get(allPaintingLinks[0]).text, 'html.parser')"
   ]
  },
  {
   "cell_type": "code",
   "execution_count": 32,
   "metadata": {},
   "outputs": [
    {
     "data": {
      "text/plain": [
       "'https://uploads0.wikiart.org/images/claude-monet/view-at-rouelles-le-havre.jpg'"
      ]
     },
     "execution_count": 32,
     "metadata": {},
     "output_type": "execute_result"
    }
   ],
   "source": [
    "imageLink = soup.find_all(\"div\", \"wiki-layout-artist-image-wrapper\")[0].find(\"img\").get(\"src\").split(\"!\")[0]\n",
    "imageLink"
   ]
  },
  {
   "cell_type": "code",
   "execution_count": 34,
   "metadata": {},
   "outputs": [
    {
     "data": {
      "application/vnd.jupyter.widget-view+json": {
       "model_id": "fbd1a6005e804e92b67144c99e1ab4cc",
       "version_major": 2,
       "version_minor": 0
      },
      "text/plain": [
       "  0%|          | 0/1367 [00:00<?, ?it/s]"
      ]
     },
     "metadata": {},
     "output_type": "display_data"
    }
   ],
   "source": [
    "imageLinks=[]\n",
    "for link in tqdm(allPaintingLinks):\n",
    "    soup = BeautifulSoup(requests.get(link).text, 'html.parser')\n",
    "    imageLink = soup.find_all(\"div\", \"wiki-layout-artist-image-wrapper\")[0].find(\"img\").get(\"src\").split(\"!\")[0]\n",
    "    imageLinks.append(imageLink)\n",
    "    name = imageLink.split(\"/\")[-1]\n",
    "    with open(os.path.join(DATA_PATH, \"output/\"+name),\"wb\") as f:\n",
    "        f.write(requests.get(imageLink).content)"
   ]
  }
 ],
 "metadata": {
  "kernelspec": {
   "display_name": "tf",
   "language": "python",
   "name": "python3"
  },
  "language_info": {
   "codemirror_mode": {
    "name": "ipython",
    "version": 3
   },
   "file_extension": ".py",
   "mimetype": "text/x-python",
   "name": "python",
   "nbconvert_exporter": "python",
   "pygments_lexer": "ipython3",
   "version": "3.9.16"
  },
  "orig_nbformat": 4
 },
 "nbformat": 4,
 "nbformat_minor": 2
}
