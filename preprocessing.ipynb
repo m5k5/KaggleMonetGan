{
 "cells": [
  {
   "cell_type": "code",
   "execution_count": 19,
   "metadata": {},
   "outputs": [
    {
     "name": "stdout",
     "output_type": "stream",
     "text": [
      "/mnt/e/ML/MonetGAN\n"
     ]
    }
   ],
   "source": [
    "from PIL import Image\n",
    "import os\n",
    "import numpy\n",
    "from tqdm.notebook import tqdm\n",
    "\n",
    "DATA_PATH = os.getenv('DATA_PATH')\n",
    "print(DATA_PATH)"
   ]
  },
  {
   "cell_type": "code",
   "execution_count": 20,
   "metadata": {},
   "outputs": [],
   "source": [
    "allFiles=[]\n",
    "for root, dirs, files in os.walk(os.path.join(DATA_PATH, \"output\")):\n",
    "    for f in files:\n",
    "        allFiles.append(os.path.join(root, f))"
   ]
  },
  {
   "cell_type": "code",
   "execution_count": 21,
   "metadata": {},
   "outputs": [
    {
     "data": {
      "text/plain": [
       "'/mnt/e/ML/MonetGAN/output/1385065444-grainstack-1891-01.jpg'"
      ]
     },
     "execution_count": 21,
     "metadata": {},
     "output_type": "execute_result"
    }
   ],
   "source": [
    "allFiles[0]"
   ]
  },
  {
   "cell_type": "code",
   "execution_count": 37,
   "metadata": {},
   "outputs": [
    {
     "data": {
      "application/vnd.jupyter.widget-view+json": {
       "model_id": "15a7a255cca544ee95943b8b8099d109",
       "version_major": 2,
       "version_minor": 0
      },
      "text/plain": [
       "  0%|          | 0/1366 [00:00<?, ?it/s]"
      ]
     },
     "metadata": {},
     "output_type": "display_data"
    }
   ],
   "source": [
    "for i,file in enumerate(tqdm(allFiles)):\n",
    "    im = Image.open(file)\n",
    "    if not im.mode==\"RGB\":\n",
    "        im = im.convert(\"RGB\")\n",
    "    w=im.width\n",
    "    h=im.height\n",
    "    name = file.split(\"/\")[-1].split(\".\")[0]\n",
    "\n",
    "    if w>h:\n",
    "        ratio=w/h\n",
    "        newWidth = h\n",
    "        imCrop = im.crop(((w-newWidth)//2, 0, (w-newWidth)//2+newWidth, h))\n",
    "        imNew = imCrop.resize((256,256))\n",
    "        imNew.save(os.path.join(DATA_PATH, \"processed/{}_center{}.jpeg\".format(name, i)), quality=90)\n",
    "        if ratio>1.5:\n",
    "            # left side crop\n",
    "            imCrop = im.crop((0, 0, newWidth, h))\n",
    "            imNew = imCrop.resize((256,256))\n",
    "            imNew.save(os.path.join(DATA_PATH, \"processed/{}_left{}.jpeg\".format(name, i)), quality=90)\n",
    "            # right side crop\n",
    "            imCrop = im.crop((w-newWidth, 0, w, h))\n",
    "            imNew = imCrop.resize((256,256))\n",
    "            imNew.save(os.path.join(DATA_PATH, \"processed/{}_right{}.jpeg\".format(name, i)), quality=90)\n",
    "    elif w<h:\n",
    "        ratio=h/w\n",
    "        newHeight= w\n",
    "        imCrop = im.crop((0, (h-newHeight)//2, w, (h-newHeight)//2+newHeight))\n",
    "        imNew = imCrop.resize((256,256))\n",
    "        imNew.save(os.path.join(DATA_PATH, \"processed/{}_center{}.jpeg\".format(name, i)), quality=90)\n",
    "        if ratio>1.5:\n",
    "            # upper side crop\n",
    "            imCrop = im.crop((0, 0, w, newHeight))\n",
    "            imNew = imCrop.resize((256,256))\n",
    "            imNew.save(os.path.join(DATA_PATH, \"processed/{}_upper{}.jpeg\".format(name, i)), quality=90)\n",
    "            # lower side crop\n",
    "            imCrop = im.crop((0, h-newHeight, w, h))\n",
    "            imNew = imCrop.resize((256,256))\n",
    "            imNew.save(os.path.join(DATA_PATH, \"processed/{}_lower{}.jpeg\".format(name, i)), quality=90)\n",
    "    else:\n",
    "        # h==w\n",
    "        ratio=1\n",
    "        imNew = im.resize((256,256))\n",
    "        imNew.save(os.path.join(DATA_PATH, \"processed/{}_center{}.jpeg\".format(name, i)), quality=90)\n",
    "\n"
   ]
  }
 ],
 "metadata": {
  "kernelspec": {
   "display_name": "tf",
   "language": "python",
   "name": "python3"
  },
  "language_info": {
   "codemirror_mode": {
    "name": "ipython",
    "version": 3
   },
   "file_extension": ".py",
   "mimetype": "text/x-python",
   "name": "python",
   "nbconvert_exporter": "python",
   "pygments_lexer": "ipython3",
   "version": "3.9.16"
  },
  "orig_nbformat": 4
 },
 "nbformat": 4,
 "nbformat_minor": 2
}
